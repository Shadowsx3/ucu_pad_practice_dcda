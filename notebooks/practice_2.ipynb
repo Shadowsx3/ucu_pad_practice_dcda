{
 "cells": [
  {
   "cell_type": "markdown",
   "metadata": {
    "collapsed": false
   },
   "source": [
    "# Práctica 2\n",
    "\n",
    "Para esta tarea, veremos los datos de vacunas de 2017. El archivo con estos datos está en `/data/NISPUF17.csv`. Para conocer los nombres de las variables de los datos tienes disponible una guía de usuarios de datos en `/data/NIS-PUF17-DUG.pdf`."
   ]
  },
  {
   "cell_type": "markdown",
   "metadata": {
    "collapsed": false
   },
   "source": [
    "## Pregunta 1\n",
    "\n",
    "Escribe una función llamada `proportion_of_education` que devuelva la proporción de niños en el dataset que tuvieron una madre con los niveles de educación: igual a menor de secundaria (<12), secundaria (12), mayor que secundaria pero sin ser universitaria graduada (>12) y con título universitario.\n",
    "\n",
    "Esta función debería devolver un diccionario en forma de (use los números correctos, no redondee los números):\n",
    "\n",
    "```python\n",
    "{\"menor que secundaria\": 0.2,\n",
    " \"secundaria\": 0.4,\n",
    " \"mayor a secundaria pero no universitaria\": 0.2,\n",
    " \"universitaria\": 0.2}\n",
    "```\n"
   ]
  },
  {
   "cell_type": "code",
   "execution_count": 13,
   "metadata": {
    "ExecuteTime": {
     "end_time": "2023-05-21T22:00:42.430893575Z",
     "start_time": "2023-05-21T22:00:42.382088417Z"
    },
    "collapsed": false
   },
   "outputs": [
    {
     "data": {
      "text/plain": [
       "{'menor que secundaria': 0.10202002459160373,\n",
       " 'secundaria': 0.172352011241876,\n",
       " 'mayor a secundaria pero no universitaria': 0.24588090637625154,\n",
       " 'universitaria': 0.47974705779026877}"
      ]
     },
     "execution_count": 13,
     "metadata": {},
     "output_type": "execute_result"
    }
   ],
   "source": [
    "import pandas as pd\n",
    "\n",
    "def proportion_of_education(dataset_path=\"../data/NISPUF17.csv\"):\n",
    "    df = pd.read_csv(dataset_path)\n",
    "\n",
    "    # 1 = <12 years, 2 = 12 years, 3 = >12 years, not a college graduate, 4 = College graduate\n",
    "    education_counts = df['EDUC1'].value_counts(normalize=True)\n",
    "\n",
    "    result = {\n",
    "        \"menor que secundaria\":                     education_counts.get(1, 0).item(),\n",
    "        \"secundaria\":                               education_counts.get(2, 0).item(),\n",
    "        \"mayor a secundaria pero no universitaria\": education_counts.get(3, 0).item(),\n",
    "        \"universitaria\":                            education_counts.get(4, 0).item()\n",
    "    }\n",
    "\n",
    "    return result\n",
    "\n",
    "proportion_of_education()\n"
   ]
  },
  {
   "cell_type": "markdown",
   "metadata": {
    "collapsed": false
   },
   "source": [
    "## Pregunta 2\n",
    "\n",
    "Exploremos la relación entre ser alimentado con leche materna (fed breast milk) cuando era niño y recibir una vacuna contra la influenza estacional (seasonal influenza) de un proveedor de atención médica.\n",
    "\n",
    "Devuelva una tupla del número promedio de vacunas contra la influenza para aquellos niños que sabemos que recibieron leche materna cuando eran niños y aquellos que sabemos que no."
   ]
  },
  {
   "cell_type": "code",
   "execution_count": 14,
   "metadata": {
    "collapsed": false
   },
   "outputs": [
    {
     "data": {
      "text/plain": [
       "(1.8799187420058687, 1.5963945918878317)"
      ]
     },
     "execution_count": 14,
     "metadata": {},
     "output_type": "execute_result"
    }
   ],
   "source": [
    "import pandas as pd\n",
    "\n",
    "def average_influenza_doses(dataset_path=\"../data/NISPUF17.csv\"):\n",
    "    df = pd.read_csv(dataset_path)\n",
    "\n",
    "    # Leche materna (CBF_01 == 1)\n",
    "    breastfed = df[df[\"CBF_01\"] == 1][\"P_NUMFLU\"]\n",
    "\n",
    "    # No recibieron leche materna (CBF_01 == 2)\n",
    "    not_breastfed = df[df[\"CBF_01\"] == 2][\"P_NUMFLU\"]\n",
    "\n",
    "    avg_breastfed = breastfed.mean().item()\n",
    "    avg_not_breastfed = not_breastfed.mean().item()\n",
    "\n",
    "    return (avg_breastfed, avg_not_breastfed)\n",
    "\n",
    "average_influenza_doses()\n"
   ]
  },
  {
   "cell_type": "markdown",
   "metadata": {
    "collapsed": false
   },
   "source": [
    "# Pregunta 3\n",
    "\n",
    "Sería interesante ver si hay evidencia de un vínculo entre la efectividad de la vacuna y el sexo del niño.\n",
    "Calcule el ratio entre el número de niños que contrajeron varicela (chickenpox) pero que fueron vacunados contra ella (al menos una dosis) versus los que fueron vacunados y no contrajeron varicela.\n",
    "\n",
    "Devuelve los resultados por sexo.\n",
    "\n",
    "Esta función debería devolver un diccionario en forma de:\n",
    "\n",
    "```python\n",
    "{\"male\": 0.2, \"female\": 0.4}\n",
    "```\n",
    "\n",
    "Nota: Para ayudar en la verificación, el valor de chickenpox_by_sex()['female'] comienza con los dígitos 0.0077."
   ]
  },
  {
   "cell_type": "code",
   "execution_count": 17,
   "metadata": {
    "collapsed": false
   },
   "outputs": [
    {
     "data": {
      "text/plain": [
       "{'male': 0.009675583380762664, 'female': 0.0077918259335489565}"
      ]
     },
     "execution_count": 17,
     "metadata": {},
     "output_type": "execute_result"
    }
   ],
   "source": [
    "import pandas as pd\n",
    "\n",
    "def chickenpox_by_sex(dataset_path=\"../data/NISPUF17.csv\"):\n",
    "    df = pd.read_csv(dataset_path)\n",
    "\n",
    "    result = {\"male\": 0, \"female\": 0}\n",
    "\n",
    "    vaccinated = df[df[\"P_NUMVRC\"] >= 1]\n",
    "\n",
    "    for sex in [1, 2]:  # 1 Hombre, 2 Mujer\n",
    "        sex_group = vaccinated[vaccinated[\"SEX\"] == sex]\n",
    "        cases_of_chickenpox = sex_group[sex_group[\"HAD_CPOX\"] == 1].shape[0]  # Contrajeron varicela\n",
    "        non_cases_of_chickenpox = sex_group[sex_group[\"HAD_CPOX\"] == 2].shape[0]  # No contrajeron varicela\n",
    "\n",
    "        if non_cases_of_chickenpox > 0:\n",
    "            ratio = cases_of_chickenpox / non_cases_of_chickenpox\n",
    "        else:\n",
    "            ratio = 0\n",
    "\n",
    "        if sex == 1:\n",
    "            result[\"male\"] = ratio\n",
    "        else:\n",
    "            result[\"female\"] = ratio\n",
    "\n",
    "    return result\n",
    "\n",
    "chickenpox_by_sex()\n"
   ]
  }
 ],
 "metadata": {
  "kernelspec": {
   "display_name": "Python 3",
   "language": "python",
   "name": "python3"
  },
  "language_info": {
   "codemirror_mode": {
    "name": "ipython",
    "version": 3
   },
   "file_extension": ".py",
   "mimetype": "text/x-python",
   "name": "python",
   "nbconvert_exporter": "python",
   "pygments_lexer": "ipython3",
   "version": "3.11.9"
  }
 },
 "nbformat": 4,
 "nbformat_minor": 0
}
